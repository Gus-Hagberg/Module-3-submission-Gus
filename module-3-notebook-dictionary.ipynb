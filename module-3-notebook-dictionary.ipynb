{
 "cells": [
  {
   "cell_type": "code",
   "execution_count": 3,
   "metadata": {},
   "outputs": [
    {
     "name": "stdout",
     "output_type": "stream",
     "text": [
      "{'first': 'Christopher', 'last': 'Harrison'}\n",
      "Christopher\n"
     ]
    }
   ],
   "source": [
    "person = {'first': 'Christopher'}\n",
    "person['last'] = 'Harrison'\n",
    "print(person)\n",
    "print(person['first'])"
   ]
  },
  {
   "attachments": {},
   "cell_type": "markdown",
   "metadata": {},
   "source": [
    "Example Dictionary"
   ]
  },
  {
   "cell_type": "code",
   "execution_count": 4,
   "metadata": {},
   "outputs": [
    {
     "name": "stdout",
     "output_type": "stream",
     "text": [
      "Alice\n",
      "30\n",
      "name\n",
      "city\n",
      "email\n",
      "name Alice\n",
      "city San Francisco\n",
      "email alice@example.com\n",
      "Email key exists.\n"
     ]
    }
   ],
   "source": [
    "# Creating a Dictionary\n",
    "person = {'name': 'Alice', 'age': 30, 'city': 'New York'}\n",
    "\n",
    "# Accessing Dictionary Values\n",
    "print(person['name'])\n",
    "print(person['age'])\n",
    "\n",
    "# Updating Dictionary Values\n",
    "person['city'] = 'San Francisco'\n",
    "\n",
    "# Adding a New Key-Value Pair\n",
    "person['email'] = 'alice@example.com'\n",
    "\n",
    "# Removing a Key-Value Pair\n",
    "del person['age']\n",
    "\n",
    "# Iterating Over Dictionary Keys\n",
    "for key in person:\n",
    "    print(key)\n",
    "\n",
    "# Iterating Over Dictionary Items\n",
    "for key, value in person.items():\n",
    "    print(key, value)\n",
    "\n",
    "# Checking if a Key Exists\n",
    "if 'email' in person:\n",
    "    print(\"Email key exists.\")\n",
    "else:\n",
    "    print(\"Email key does not exist.\")"
   ]
  },
  {
   "attachments": {},
   "cell_type": "markdown",
   "metadata": {},
   "source": [
    "Dictionary exercise\n",
    "#Student: Complete all activities below. It is pretty much using the code in the above window, but creating a 'student' dictionary instead of 'person'. \n",
    "\n",
    "###### TODO: Access and print the values of the 'name' and 'age' keys from the student dictionary.\n",
    "\n",
    "\n",
    "###### TODO: Update the 'suburb' value in the student dictionary to 'Gosford' (unless you live there - then put another suburb).\n",
    "\n",
    "\n",
    "###### TODO: Add a new key-value pair to the student dictionary for 'email' with a value of 'alice.soerjosoebroto@education.nsw.gov.au'.\n",
    "\n",
    "\n",
    "###### TODO: Remove the 'age' key and its corresponding value from the student dictionary.\n",
    "\n",
    "\n",
    "###### TODO: Iterate over the keys in the student dictionary and print each key.\n",
    "\n",
    "\n",
    "###### TODO: Iterate over the key-value pairs (items) in the student dictionary and print each item.\n",
    "\n",
    "\n",
    "###### TODO: Check if the 'email' key exists in the student dictionary and print a message based on its existence."
   ]
  },
  {
   "cell_type": "code",
   "execution_count": 10,
   "metadata": {},
   "outputs": [
    {
     "name": "stdout",
     "output_type": "stream",
     "text": [
      "Name: Alice\n",
      "Age: 30\n",
      "Keys:\n",
      "name\n",
      "suburb\n",
      "email\n",
      "name Alice\n",
      "suburb Gosford\n",
      "email alice.soerjosoebroto@education.nsw.gov.au\n",
      "Email key exists in student dictionary.\n"
     ]
    }
   ],
   "source": [
    "student = {'name': 'Alice', 'age': 30,}\n",
    "student['suburb'] = 'Gosford'\n",
    "student['email'] = 'alice.soerjosoebroto@education.nsw.gov.au'\n",
    "print(\"Name:\", student['name'])\n",
    "print(\"Age:\", student['age'])\n",
    "del student['age']\n",
    "print(\"Keys:\")\n",
    "for key in student:\n",
    "    print(key)\n",
    "for key, value in student.items():\n",
    "    print(key, value)\n",
    "if 'email' in student:\n",
    "    print(\"Email key exists in student dictionary.\")\n",
    "else:\n",
    "    print(\"Email key does not exist in student dictionary.\")"
   ]
  },
  {
   "attachments": {},
   "cell_type": "markdown",
   "metadata": {},
   "source": []
  }
 ],
 "metadata": {
  "kernelspec": {
   "display_name": "Python 3",
   "language": "python",
   "name": "python3"
  },
  "language_info": {
   "codemirror_mode": {
    "name": "ipython",
    "version": 3
   },
   "file_extension": ".py",
   "mimetype": "text/x-python",
   "name": "python",
   "nbconvert_exporter": "python",
   "pygments_lexer": "ipython3",
   "version": "3.9.2"
  },
  "orig_nbformat": 4
 },
 "nbformat": 4,
 "nbformat_minor": 2
}
