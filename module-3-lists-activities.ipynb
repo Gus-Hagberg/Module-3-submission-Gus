{
 "cells": [
  {
   "attachments": {},
   "cell_type": "markdown",
   "metadata": {},
   "source": [
    "##### fruits activity"
   ]
  },
  {
   "cell_type": "code",
   "execution_count": 2,
   "metadata": {},
   "outputs": [
    {
     "name": "stdout",
     "output_type": "stream",
     "text": [
      "['banana', 'mango', 'strawberry', 'dragonfruit']\n",
      "['banana', 'mango', 'dragonfruit']\n",
      "['dragonfruit', 'mango', 'banana']\n",
      "mango\n"
     ]
    }
   ],
   "source": [
    "favourite_fruits = ['banana', 'mango', 'strawberry']\n",
    "favourite_fruits.append('dragonfruit')\n",
    "print(favourite_fruits)\n",
    "favourite_fruits.remove('strawberry')\n",
    "print(favourite_fruits)\n",
    "favourite_fruits.reverse()\n",
    "print(favourite_fruits)\n",
    "print(favourite_fruits[1])"
   ]
  },
  {
   "attachments": {},
   "cell_type": "markdown",
   "metadata": {},
   "source": [
    "##### hobbies activity\n"
   ]
  },
  {
   "cell_type": "code",
   "execution_count": 6,
   "metadata": {},
   "outputs": [
    {
     "name": "stdout",
     "output_type": "stream",
     "text": [
      "['wakeboarding', 'gaming', 'camping', 'kneeboarding']\n",
      "['wakeboarding', 'camping', 'kneeboarding']\n",
      "['kneeboarding', 'camping', 'wakeboarding']\n",
      "['pc_building', 'camping', 'wakeboarding']\n"
     ]
    }
   ],
   "source": [
    "favourite_activities = ['wakeboarding', 'gaming', 'camping']\n",
    "favourite_activities.append('kneeboarding')\n",
    "print(favourite_activities)\n",
    "favourite_activities.remove('gaming')\n",
    "print(favourite_activities)\n",
    "favourite_activities.reverse()\n",
    "print(favourite_activities)\n",
    "favourite_activities[0] = 'pc_building'\n",
    "print(favourite_activities)"
   ]
  },
  {
   "attachments": {},
   "cell_type": "markdown",
   "metadata": {},
   "source": [
    "##### Student Grades List Activity Without Dictionaries"
   ]
  },
  {
   "cell_type": "code",
   "execution_count": 10,
   "metadata": {},
   "outputs": [
    {
     "name": "stdout",
     "output_type": "stream",
     "text": [
      "Original Student Names: ['Alice', 'Bob', 'Charlie', 'David', 'Emily', 'Barry']\n",
      "Original Student Grades: [85, 92, 78, 88, 95, 98]\n",
      "Updated Student Names: ['Alice', 'Bob', 'David', 'Emily', 'Barry']\n",
      "Updated Student Grades: [85, 92, 88, 95, 98]\n",
      "Average Grade: 91.8\n"
     ]
    }
   ],
   "source": [
    "student_names = ['Alice', 'Bob', 'Charlie', 'David', 'Emily']\n",
    "student_grades = [85, 92, 78, 88, 95]\n",
    "student_names.append('Barry')\n",
    "student_grades.append(98)\n",
    "print(\"Original Student Names:\", student_names)\n",
    "print(\"Original Student Grades:\", student_grades)\n",
    "\n",
    "remove_index = 2\n",
    "removed_student = student_names.pop(remove_index)\n",
    "removed_grade = student_grades.pop(remove_index)\n",
    "print('Updated Student Names:', student_names)\n",
    "print('Updated Student Grades:', student_grades)\n",
    "student_grades[4] = 99\n",
    "total_grades = sum(student_grades)\n",
    "average_grade = total_grades / len(student_grades)\n",
    "print(\"Average Grade:\", average_grade)"
   ]
  }
 ],
 "metadata": {
  "kernelspec": {
   "display_name": "Python 3",
   "language": "python",
   "name": "python3"
  },
  "language_info": {
   "codemirror_mode": {
    "name": "ipython",
    "version": 3
   },
   "file_extension": ".py",
   "mimetype": "text/x-python",
   "name": "python",
   "nbconvert_exporter": "python",
   "pygments_lexer": "ipython3",
   "version": "3.9.2"
  },
  "orig_nbformat": 4
 },
 "nbformat": 4,
 "nbformat_minor": 2
}
